{
  "nbformat": 4,
  "nbformat_minor": 0,
  "metadata": {
    "colab": {
      "provenance": [],
      "authorship_tag": "ABX9TyPy/b+CDSnCVNt0xckF3ZdW",
      "include_colab_link": true
    },
    "kernelspec": {
      "name": "python3",
      "display_name": "Python 3"
    },
    "language_info": {
      "name": "python"
    }
  },
  "cells": [
    {
      "cell_type": "markdown",
      "metadata": {
        "id": "view-in-github",
        "colab_type": "text"
      },
      "source": [
        "<a href=\"https://colab.research.google.com/github/coderaadi1/ML_using_tensorflow/blob/main/Evaluation_metrics.ipynb\" target=\"_parent\"><img src=\"https://colab.research.google.com/assets/colab-badge.svg\" alt=\"Open In Colab\"/></a>"
      ]
    },
    {
      "cell_type": "code",
      "execution_count": null,
      "metadata": {
        "id": "KhWuenHvncOa"
      },
      "outputs": [],
      "source": [
        "from sklearn.metrics import confusion_matrix ,ConfusionMatrixDisplay\n",
        "from sklearn.metrics import confusion_matrix\n",
        "from sklearn.metrics import accuracy_score\n",
        "from sklearn.metrics import classification_report\n",
        "from sklearn.metrics import roc_auc_score\n",
        "from sklearn.metrics import log_loss\n",
        "from sklearn.metrics import r2_score\n",
        "from sklearn.metrics import mean_absolute_error\n",
        "from sklearn.metrics import mean_squared_error\n",
        "import sklearn.metrics as metrics"
      ]
    },
    {
      "cell_type": "code",
      "source": [
        "X_actual = [1, 1, 0, 1, 0, 0, 1, 0, 0, 0]\n",
        "Y_predict = [1, 0, 1, 1, 1, 0, 1, 1, 0, 0]\n",
        "#classification data"
      ],
      "metadata": {
        "id": "4UvELuSooUfu"
      },
      "execution_count": null,
      "outputs": []
    },
    {
      "cell_type": "code",
      "source": [
        "results = confusion_matrix(X_actual, Y_predict)\n",
        "print('Confusion Matrix :')\n",
        "print(results)"
      ],
      "metadata": {
        "colab": {
          "base_uri": "https://localhost:8080/"
        },
        "id": "Ww6jMmfPogED",
        "outputId": "90d162b0-cc56-4894-9ee5-2be0aa3e6391"
      },
      "execution_count": null,
      "outputs": [
        {
          "output_type": "stream",
          "name": "stdout",
          "text": [
            "Confusion Matrix :\n",
            "[[3 3]\n",
            " [1 3]]\n"
          ]
        }
      ]
    },
    {
      "cell_type": "code",
      "source": [
        "import matplotlib.pyplot as plt\n",
        "cm_display = ConfusionMatrixDisplay(confusion_matrix = results, display_labels = [0,1])\n",
        "cm_display.plot()\n",
        "plt.show()"
      ],
      "metadata": {
        "colab": {
          "base_uri": "https://localhost:8080/",
          "height": 455
        },
        "id": "ATjBMAAIuNHg",
        "outputId": "4171d839-f822-418f-c5e0-e81cdf2ff9f2"
      },
      "execution_count": null,
      "outputs": [
        {
          "output_type": "display_data",
          "data": {
            "text/plain": [
              "<Figure size 640x480 with 2 Axes>"
            ],
            "image/png": "[encoded data removed]"
          },
          "metadata": {}
        }
      ]
    },
    {
      "cell_type": "code",
      "source": [
        "print('Accuracy_score is:',accuracy_score(X_actual,Y_predict))\n",
        "print('Precision Score:',metrics.precision_score(X_actual,Y_predict))\n",
        "print('Sensitivity Recall',metrics.recall_score(X_actual,Y_predict))\n",
        "print('Specificity',metrics.recall_score(X_actual, Y_predict, pos_label=0))#predict the positive value fro computation\n",
        "print('F1 score:',metrics.f1_score(X_actual,Y_predict))"
      ],
      "metadata": {
        "colab": {
          "base_uri": "https://localhost:8080/"
        },
        "id": "n-knQLFfo2cN",
        "outputId": "5ecf7c38-2229-40d7-d784-6edc2a2d398e"
      },
      "execution_count": null,
      "outputs": [
        {
          "output_type": "stream",
          "name": "stdout",
          "text": [
            "Accuracy_score is: 0.6\n",
            "Precision Score: 0.5\n",
            "Sensitivity Recall 0.75\n",
            "Specificity 0.5\n",
            "F1 score: 0.6\n"
          ]
        }
      ]
    },
    {
      "cell_type": "code",
      "source": [
        "print('Classification report :')\n",
        "print(classification_report(X_actual,Y_predict))"
      ],
      "metadata": {
        "colab": {
          "base_uri": "https://localhost:8080/"
        },
        "id": "zNewnU8NpLLS",
        "outputId": "d176f9c2-b461-4976-d1c8-6c5f99058699"
      },
      "execution_count": null,
      "outputs": [
        {
          "output_type": "stream",
          "name": "stdout",
          "text": [
            "Classification report :\n",
            "              precision    recall  f1-score   support\n",
            "\n",
            "           0       0.75      0.50      0.60         6\n",
            "           1       0.50      0.75      0.60         4\n",
            "\n",
            "    accuracy                           0.60        10\n",
            "   macro avg       0.62      0.62      0.60        10\n",
            "weighted avg       0.65      0.60      0.60        10\n",
            "\n"
          ]
        }
      ]
    },
    {
      "cell_type": "code",
      "source": [
        "print ('AUC-ROC',roc_auc_score(X_actual,Y_predict))"
      ],
      "metadata": {
        "colab": {
          "base_uri": "https://localhost:8080/"
        },
        "id": "A4rtuSxUpl-z",
        "outputId": "d36e42e2-1d99-4a31-c011-5f99eab7b8af"
      },
      "execution_count": null,
      "outputs": [
        {
          "output_type": "stream",
          "name": "stdout",
          "text": [
            "AUC-ROC 0.625\n"
          ]
        }
      ]
    },
    {
      "cell_type": "code",
      "source": [
        "print ('Log loss',log_loss(X_actual,Y_predict))"
      ],
      "metadata": {
        "colab": {
          "base_uri": "https://localhost:8080/"
        },
        "id": "pKyi20gTqDOT",
        "outputId": "3f6931f2-1cbb-4f94-faf8-20438cfd144e"
      },
      "execution_count": null,
      "outputs": [
        {
          "output_type": "stream",
          "name": "stdout",
          "text": [
            "Log loss 14.41746135564686\n"
          ]
        }
      ]
    },
    {
      "cell_type": "code",
      "source": [
        "print ('r2 score',r2_score(X_actual,Y_predict))"
      ],
      "metadata": {
        "colab": {
          "base_uri": "https://localhost:8080/"
        },
        "id": "MZ6JdLD9qQna",
        "outputId": "fcac6035-602b-4512-879c-324a110d4b40"
      },
      "execution_count": null,
      "outputs": [
        {
          "output_type": "stream",
          "name": "stdout",
          "text": [
            "r2 score -0.6666666666666665\n"
          ]
        }
      ]
    },
    {
      "cell_type": "code",
      "source": [
        "X_actual1 = [5, -1, 2, 10]  #regression\n",
        "Y_predict1 = [3.5, -0.9, 2, 9.9]\n",
        "#we take these values as the paramenters below work on continous data"
      ],
      "metadata": {
        "id": "BtK5ccpJqery"
      },
      "execution_count": null,
      "outputs": []
    },
    {
      "cell_type": "code",
      "source": [
        "print('R squared =',r2_score(X_actual1,Y_predict1))\n",
        "print('MAE=',mean_absolute_error(X_actual1,Y_predict1))\n",
        "print('MSE = ',mean_squared_error(X_actual1,Y_predict1))"
      ],
      "metadata": {
        "colab": {
          "base_uri": "https://localhost:8080/"
        },
        "id": "LLIL9Ftrq5P6",
        "outputId": "630f15d2-b55c-4a1c-8f11-f26424efb2d2"
      },
      "execution_count": null,
      "outputs": [
        {
          "output_type": "stream",
          "name": "stdout",
          "text": [
            "R squared = 0.9656060606060606\n",
            "MAE= 0.42499999999999993\n",
            "MSE =  0.5674999999999999\n"
          ]
        }
      ]
    }
  ]
}